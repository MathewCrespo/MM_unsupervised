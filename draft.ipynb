{
 "cells": [
  {
   "cell_type": "code",
   "execution_count": 1,
   "metadata": {},
   "outputs": [],
   "source": [
    "import torch.nn as nn\n",
    "import torch.utils.model_zoo as model_zoo\n",
    "import torch\n",
    "\n",
    "from torch.utils.data import Dataset, DataLoader\n",
    "from torchvision import transforms"
   ]
  },
  {
   "cell_type": "code",
   "execution_count": 2,
   "metadata": {},
   "outputs": [],
   "source": [
    "from Dataset.UEset import UEset\n",
    "from models.vgg import vgg16_bn_tiny\n",
    "from models.resnet import ResNet10"
   ]
  },
  {
   "cell_type": "code",
   "execution_count": 3,
   "metadata": {},
   "outputs": [],
   "source": [
    "pre_transform = transforms.Compose([\n",
    "    transforms.ToTensor(),\n",
    "    transforms.Resize((224,224)),\n",
    "    ])\n",
    "root = '/remote-home/share/MM_Ultrasound'"
   ]
  },
  {
   "cell_type": "code",
   "execution_count": 4,
   "metadata": {},
   "outputs": [],
   "source": [
    "data = UEset(root, pre_transform = pre_transform, sub_list = [1,2,3,4,5],label=True)"
   ]
  },
  {
   "cell_type": "code",
   "execution_count": 5,
   "metadata": {},
   "outputs": [],
   "source": [
    "loader = DataLoader(data,batch_size=256,shuffle=True,num_workers=4)"
   ]
  },
  {
   "cell_type": "code",
   "execution_count": 6,
   "metadata": {},
   "outputs": [
    {
     "name": "stdout",
     "output_type": "stream",
     "text": [
      "torch.Size([256, 4, 3, 224, 224])\n",
      "torch.Size([256, 4, 3, 224, 224])\n",
      "torch.Size([256, 4, 3, 224, 224])\n",
      "torch.Size([256, 4, 3, 224, 224])\n",
      "torch.Size([256, 4, 3, 224, 224])\n",
      "torch.Size([256, 4, 3, 224, 224])\n",
      "torch.Size([256, 4, 3, 224, 224])\n",
      "torch.Size([256, 4, 3, 224, 224])\n",
      "torch.Size([256, 4, 3, 224, 224])\n",
      "torch.Size([256, 4, 3, 224, 224])\n",
      "torch.Size([256, 4, 3, 224, 224])\n",
      "torch.Size([256, 4, 3, 224, 224])\n",
      "torch.Size([256, 4, 3, 224, 224])\n",
      "torch.Size([146, 4, 3, 224, 224])\n"
     ]
    }
   ],
   "source": [
    "for imgs, label in loader:\n",
    "    print(imgs.shape)"
   ]
  },
  {
   "cell_type": "code",
   "execution_count": 15,
   "metadata": {},
   "outputs": [],
   "source": [
    "from models.encoder import Res_Encoder\n",
    "model = Res_Encoder()"
   ]
  },
  {
   "cell_type": "code",
   "execution_count": 31,
   "metadata": {},
   "outputs": [],
   "source": [
    "class Res_Encoder(nn.Module):\n",
    "    def __init__(self, input_dim=3, L=500, D=128, K=1):\n",
    "        super(Res_Encoder, self).__init__()\n",
    "        self.input_dim = input_dim\n",
    "        self.L = L\n",
    "        self.D = D\n",
    "        self.K = K\n",
    "\n",
    "        self.feature_extractor_part1 = ResNet10()\n",
    "\n",
    "        self.feature_extractor_part2 = nn.Sequential(\n",
    "            nn.Linear(512 * 7 * 7, self.L),\n",
    "            nn.ReLU(),\n",
    "        )\n",
    "\n",
    "        self.attention = nn.Sequential(\n",
    "            nn.Linear(self.L, self.D),\n",
    "            nn.Tanh(),\n",
    "            nn.Linear(self.D, self.K)\n",
    "        )\n",
    "\n",
    "    def forward(self, x, debug=False):\n",
    "\n",
    "        batch = x.shape[0]\n",
    "        x = x.view(-1,3,224,224)\n",
    "        print(x.shape)\n",
    "        f = self.feature_extractor_part1(x)\n",
    "        f = f.view(-1,512*7*7)\n",
    "        print(f.shape)\n",
    "        \n",
    "        f = self.feature_extractor_part2(f)\n",
    "        f = f.view(batch,4,-1)\n",
    "\n",
    "    \n",
    "\n",
    "        return f"
   ]
  },
  {
   "cell_type": "code",
   "execution_count": 32,
   "metadata": {},
   "outputs": [],
   "source": [
    "input = torch.randn((128,4,3,224,224))"
   ]
  },
  {
   "cell_type": "code",
   "execution_count": 33,
   "metadata": {},
   "outputs": [],
   "source": [
    "model = Res_Encoder()"
   ]
  },
  {
   "cell_type": "code",
   "execution_count": 34,
   "metadata": {},
   "outputs": [
    {
     "name": "stdout",
     "output_type": "stream",
     "text": [
      "torch.Size([512, 3, 224, 224])\n",
      "torch.Size([512, 25088])\n"
     ]
    }
   ],
   "source": [
    "output = model(input)"
   ]
  },
  {
   "cell_type": "code",
   "execution_count": 35,
   "metadata": {},
   "outputs": [
    {
     "data": {
      "text/plain": [
       "torch.Size([128, 4, 500])"
      ]
     },
     "execution_count": 35,
     "metadata": {},
     "output_type": "execute_result"
    }
   ],
   "source": [
    "output.shape"
   ]
  },
  {
   "cell_type": "code",
   "execution_count": 36,
   "metadata": {},
   "outputs": [],
   "source": [
    "f11 = output[:,0,:]"
   ]
  },
  {
   "cell_type": "code",
   "execution_count": 37,
   "metadata": {},
   "outputs": [
    {
     "data": {
      "text/plain": [
       "torch.Size([128, 500])"
      ]
     },
     "execution_count": 37,
     "metadata": {},
     "output_type": "execute_result"
    }
   ],
   "source": [
    "f11.shape"
   ]
  },
  {
   "cell_type": "code",
   "execution_count": 5,
   "metadata": {},
   "outputs": [],
   "source": [
    "imgs, label = data[19]"
   ]
  },
  {
   "cell_type": "code",
   "execution_count": 9,
   "metadata": {},
   "outputs": [],
   "source": [
    "img11, img21, img12, img22 = imgs"
   ]
  },
  {
   "cell_type": "code",
   "execution_count": 11,
   "metadata": {},
   "outputs": [
    {
     "data": {
      "text/plain": [
       "torch.Size([3, 224, 224])"
      ]
     },
     "execution_count": 11,
     "metadata": {},
     "output_type": "execute_result"
    }
   ],
   "source": [
    "img11.shape"
   ]
  },
  {
   "cell_type": "code",
   "execution_count": 13,
   "metadata": {},
   "outputs": [],
   "source": [
    "model = vgg16_bn_tiny()"
   ]
  },
  {
   "cell_type": "code",
   "execution_count": 22,
   "metadata": {},
   "outputs": [],
   "source": [
    "output = model(img11.unsqueeze(0))"
   ]
  },
  {
   "cell_type": "code",
   "execution_count": 25,
   "metadata": {},
   "outputs": [
    {
     "data": {
      "text/plain": [
       "5"
      ]
     },
     "execution_count": 25,
     "metadata": {},
     "output_type": "execute_result"
    }
   ],
   "source": [
    "len(output)"
   ]
  },
  {
   "cell_type": "code",
   "execution_count": 27,
   "metadata": {},
   "outputs": [],
   "source": [
    "model2 = ResNet10()"
   ]
  },
  {
   "cell_type": "code",
   "execution_count": 29,
   "metadata": {},
   "outputs": [
    {
     "data": {
      "text/plain": [
       "torch.Size([1, 512, 7, 7])"
      ]
     },
     "execution_count": 29,
     "metadata": {},
     "output_type": "execute_result"
    }
   ],
   "source": [
    "model2(img11.unsqueeze(0)).shape"
   ]
  },
  {
   "cell_type": "code",
   "execution_count": null,
   "metadata": {},
   "outputs": [],
   "source": [
    "class Res_Attention(nn.Module):\n",
    "    def __init__(self, input_dim=3, L=500, D=128, K=1):\n",
    "        super(Res_Attention, self).__init__()\n",
    "        self.input_dim = input_dim\n",
    "        self.L = L\n",
    "        self.D = D\n",
    "        self.K = K\n",
    "\n",
    "        self.feature_extractor_part1 = ResNet10()\n",
    "\n",
    "        self.feature_extractor_part2 = nn.Sequential(\n",
    "            nn.Linear(512 * 7 * 7, self.L),\n",
    "            nn.ReLU(),\n",
    "        )\n"
   ]
  },
  {
   "cell_type": "markdown",
   "metadata": {},
   "source": [
    "## For InfoNCE"
   ]
  },
  {
   "cell_type": "code",
   "execution_count": 38,
   "metadata": {},
   "outputs": [],
   "source": [
    "# 256 imgs with dim 512\n",
    "f11 = torch.randn(256,512)\n",
    "f21 = torch.randn(256,512)\n",
    "f12 = torch.randn(256,512)\n",
    "f22 = torch.randn(256,512)"
   ]
  },
  {
   "cell_type": "code",
   "execution_count": 39,
   "metadata": {},
   "outputs": [],
   "source": [
    "criterion = nn.CrossEntropyLoss()"
   ]
  },
  {
   "cell_type": "code",
   "execution_count": 41,
   "metadata": {},
   "outputs": [],
   "source": [
    "t = 0.01\n",
    "# for data augmentation loss\n",
    "l_pos_aug1 = torch.einsum('nc,nc->n',[f11,f12]).unsqueeze(-1)\n",
    "l_pos_aug2 = torch.einsum('nc,nc->n',[f21,f22]).unsqueeze(-1)\n",
    "l_neg_aug1 = torch.einsum('nc,ck->nk',[f11,f12.T])\n",
    "l_neg_aug2 = torch.einsum('nc,ck->nk',[f21,f22.T])\n",
    "logits_aug1 = torch.cat([l_pos_aug1,l_neg_aug1],dim=1)\n",
    "logits_aug2 = torch.cat([l_pos_aug2,l_neg_aug2],dim=1)\n",
    "labels = torch.zeros(logits_aug1.shape[0],dtype=torch.long)\n",
    "aug_loss = criterion(logits_aug1,labels) + criterion(logits_aug2,labels)\n"
   ]
  },
  {
   "cell_type": "code",
   "execution_count": 42,
   "metadata": {},
   "outputs": [
    {
     "data": {
      "text/plain": [
       "torch.Size([256])"
      ]
     },
     "execution_count": 42,
     "metadata": {},
     "output_type": "execute_result"
    }
   ],
   "source": [
    "labels.shape"
   ]
  },
  {
   "cell_type": "code",
   "execution_count": 47,
   "metadata": {},
   "outputs": [],
   "source": [
    "# for domain invariant loss\n",
    "l_pos_d1 = torch.einsum('nc,nc->n',[f11,f21]).unsqueeze(-1)\n",
    "l_pos_d2 = torch.einsum('nc,nc->n',[f12,f22]).unsqueeze(-1)\n",
    "l_neg_d1 = torch.einsum('nc,ck->nk',[f11,f21.T])\n",
    "l_neg_d2 = torch.einsum('nc,ck->nk',[f12,f22.T])\n",
    "logits_d1 = torch.cat([l_pos_d1,l_neg_d1],dim=1)\n",
    "logits_d2 = torch.cat([l_pos_d2,l_neg_d2],dim=1)\n",
    "labels = torch.zeros(logits_d1.shape[0],dtype=torch.long)\n",
    "d_loss = criterion(logits_d1,labels) + criterion(logits_d2,labels)"
   ]
  },
  {
   "cell_type": "code",
   "execution_count": 48,
   "metadata": {},
   "outputs": [
    {
     "data": {
      "text/plain": [
       "tensor(127.3748)"
      ]
     },
     "execution_count": 48,
     "metadata": {},
     "output_type": "execute_result"
    }
   ],
   "source": [
    "aug_loss"
   ]
  },
  {
   "cell_type": "code",
   "execution_count": 49,
   "metadata": {},
   "outputs": [
    {
     "data": {
      "text/plain": [
       "tensor(130.3878)"
      ]
     },
     "execution_count": 49,
     "metadata": {},
     "output_type": "execute_result"
    }
   ],
   "source": [
    "d_loss"
   ]
  },
  {
   "cell_type": "code",
   "execution_count": null,
   "metadata": {},
   "outputs": [],
   "source": []
  }
 ],
 "metadata": {
  "kernelspec": {
   "display_name": "gyf171",
   "language": "python",
   "name": "gyf171"
  },
  "language_info": {
   "codemirror_mode": {
    "name": "ipython",
    "version": 3
   },
   "file_extension": ".py",
   "mimetype": "text/x-python",
   "name": "python",
   "nbconvert_exporter": "python",
   "pygments_lexer": "ipython3",
   "version": "3.8.8"
  }
 },
 "nbformat": 4,
 "nbformat_minor": 4
}
