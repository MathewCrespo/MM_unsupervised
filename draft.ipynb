{
 "cells": [
  {
   "cell_type": "markdown",
   "metadata": {},
   "source": [
    "### ruijin data"
   ]
  },
  {
   "cell_type": "code",
   "execution_count": 54,
   "metadata": {},
   "outputs": [],
   "source": [
    "label = '/remote-home/share/RJ_video/RJ_video_crop/final_label.csv'"
   ]
  },
  {
   "cell_type": "code",
   "execution_count": 55,
   "metadata": {},
   "outputs": [],
   "source": [
    "import pandas as pd\n",
    "df = pd.read_csv(label,dtype=str)"
   ]
  },
  {
   "cell_type": "code",
   "execution_count": 56,
   "metadata": {},
   "outputs": [],
   "source": [
    "df['ID'] = df['ID'].str.zfill(9)"
   ]
  },
  {
   "cell_type": "code",
   "execution_count": 58,
   "metadata": {},
   "outputs": [],
   "source": [
    "df.to_excel('./videoid.xlsx')"
   ]
  },
  {
   "cell_type": "code",
   "execution_count": 3,
   "metadata": {},
   "outputs": [],
   "source": [
    "import os\n",
    "root = '/remote-home/share/RJ_video/RJ_video_crop'"
   ]
  },
  {
   "cell_type": "code",
   "execution_count": 7,
   "metadata": {},
   "outputs": [
    {
     "name": "stdout",
     "output_type": "stream",
     "text": [
      "1196\n",
      "1221\n",
      "2579\n"
     ]
    }
   ],
   "source": [
    "pcnt = 0\n",
    "v_cnt = 0\n",
    "img_cnt = 0\n",
    "for p in os.listdir(root):\n",
    "    p_path = os.path.join(root,p)\n",
    "    if os.path.isdir(p_path):\n",
    "        pcnt += 1\n",
    "        for f in os.listdir(p_path):\n",
    "            if f.endswith('.mp4') or f.endswith('.avi'):\n",
    "                v_cnt += 1\n",
    "            else:\n",
    "                img_cnt += 1\n",
    "print(pcnt)\n",
    "print(v_cnt)\n",
    "print(img_cnt)"
   ]
  },
  {
   "cell_type": "markdown",
   "metadata": {},
   "source": [
    "# Multi-Modal"
   ]
  },
  {
   "cell_type": "code",
   "execution_count": 11,
   "metadata": {},
   "outputs": [],
   "source": [
    "import torch.nn as nn\n",
    "import torch.utils.model_zoo as model_zoo\n",
    "import torch\n",
    "\n",
    "from torch.utils.data import Dataset, DataLoader\n",
    "from torchvision import transforms"
   ]
  },
  {
   "cell_type": "code",
   "execution_count": 12,
   "metadata": {},
   "outputs": [],
   "source": [
    "from Dataset.UEset import UEset\n",
    "from models.vgg import vgg16_bn_tiny\n",
    "from models.resnet import ResNet10"
   ]
  },
  {
   "cell_type": "code",
   "execution_count": 10,
   "metadata": {},
   "outputs": [],
   "source": [
    "pre_transform = transforms.Compose([\n",
    "    transforms.ToTensor(),\n",
    "    transforms.Resize((224,224)),\n",
    "    ])\n",
    "root = '/remote-home/share/MM_Ultrasound'"
   ]
  },
  {
   "cell_type": "code",
   "execution_count": 4,
   "metadata": {},
   "outputs": [],
   "source": [
    "data = UEset(root, pre_transform = pre_transform, sub_list = [1,2,3,4,5],label=True)"
   ]
  },
  {
   "cell_type": "code",
   "execution_count": 5,
   "metadata": {},
   "outputs": [
    {
     "data": {
      "text/plain": [
       "3474"
      ]
     },
     "execution_count": 5,
     "metadata": {},
     "output_type": "execute_result"
    }
   ],
   "source": [
    "len(data)"
   ]
  },
  {
   "cell_type": "code",
   "execution_count": 6,
   "metadata": {},
   "outputs": [],
   "source": [
    "loader = DataLoader(data,batch_size=256,shuffle=True,num_workers=4)"
   ]
  },
  {
   "cell_type": "code",
   "execution_count": 32,
   "metadata": {},
   "outputs": [],
   "source": [
    "input = torch.randn((128,4,3,224,224))"
   ]
  },
  {
   "cell_type": "code",
   "execution_count": 36,
   "metadata": {},
   "outputs": [],
   "source": [
    "f11 = output[:,0,:]"
   ]
  },
  {
   "cell_type": "code",
   "execution_count": 37,
   "metadata": {},
   "outputs": [
    {
     "data": {
      "text/plain": [
       "torch.Size([128, 500])"
      ]
     },
     "execution_count": 37,
     "metadata": {},
     "output_type": "execute_result"
    }
   ],
   "source": [
    "f11.shape"
   ]
  },
  {
   "cell_type": "code",
   "execution_count": 5,
   "metadata": {},
   "outputs": [],
   "source": [
    "imgs, label = data[19]"
   ]
  },
  {
   "cell_type": "code",
   "execution_count": 9,
   "metadata": {},
   "outputs": [],
   "source": [
    "img11, img21, img12, img22 = imgs"
   ]
  },
  {
   "cell_type": "code",
   "execution_count": 11,
   "metadata": {},
   "outputs": [
    {
     "data": {
      "text/plain": [
       "torch.Size([3, 224, 224])"
      ]
     },
     "execution_count": 11,
     "metadata": {},
     "output_type": "execute_result"
    }
   ],
   "source": [
    "img11.shape"
   ]
  },
  {
   "cell_type": "code",
   "execution_count": 13,
   "metadata": {},
   "outputs": [],
   "source": [
    "model = vgg16_bn_tiny()"
   ]
  },
  {
   "cell_type": "code",
   "execution_count": 22,
   "metadata": {},
   "outputs": [],
   "source": [
    "output = model(img11.unsqueeze(0))"
   ]
  },
  {
   "cell_type": "code",
   "execution_count": 25,
   "metadata": {},
   "outputs": [
    {
     "data": {
      "text/plain": [
       "5"
      ]
     },
     "execution_count": 25,
     "metadata": {},
     "output_type": "execute_result"
    }
   ],
   "source": [
    "len(output)"
   ]
  },
  {
   "cell_type": "code",
   "execution_count": 27,
   "metadata": {},
   "outputs": [],
   "source": [
    "model2 = ResNet10()"
   ]
  },
  {
   "cell_type": "code",
   "execution_count": 29,
   "metadata": {},
   "outputs": [
    {
     "data": {
      "text/plain": [
       "torch.Size([1, 512, 7, 7])"
      ]
     },
     "execution_count": 29,
     "metadata": {},
     "output_type": "execute_result"
    }
   ],
   "source": [
    "model2(img11.unsqueeze(0)).shape"
   ]
  },
  {
   "cell_type": "markdown",
   "metadata": {},
   "source": [
    "## For InfoNCE"
   ]
  },
  {
   "cell_type": "code",
   "execution_count": 38,
   "metadata": {},
   "outputs": [],
   "source": [
    "# 256 imgs with dim 512\n",
    "f11 = torch.randn(256,512)\n",
    "f21 = torch.randn(256,512)\n",
    "f12 = torch.randn(256,512)\n",
    "f22 = torch.randn(256,512)"
   ]
  },
  {
   "cell_type": "code",
   "execution_count": 44,
   "metadata": {},
   "outputs": [
    {
     "data": {
      "text/plain": [
       "256"
      ]
     },
     "execution_count": 44,
     "metadata": {},
     "output_type": "execute_result"
    }
   ],
   "source": [
    "f11.size(0)"
   ]
  },
  {
   "cell_type": "code",
   "execution_count": 39,
   "metadata": {},
   "outputs": [],
   "source": [
    "criterion = nn.CrossEntropyLoss()"
   ]
  },
  {
   "cell_type": "code",
   "execution_count": 41,
   "metadata": {},
   "outputs": [],
   "source": [
    "t = 0.01\n",
    "# for data augmentation loss\n",
    "l_pos_aug1 = torch.einsum('nc,nc->n',[f11,f12]).unsqueeze(-1)\n",
    "l_pos_aug2 = torch.einsum('nc,nc->n',[f21,f22]).unsqueeze(-1)\n",
    "l_neg_aug1 = torch.einsum('nc,ck->nk',[f11,f12.T])\n",
    "l_neg_aug2 = torch.einsum('nc,ck->nk',[f21,f22.T])\n",
    "logits_aug1 = torch.cat([l_pos_aug1,l_neg_aug1],dim=1)\n",
    "logits_aug2 = torch.cat([l_pos_aug2,l_neg_aug2],dim=1)\n",
    "labels = torch.zeros(logits_aug1.shape[0],dtype=torch.long)\n",
    "aug_loss = criterion(logits_aug1,labels) + criterion(logits_aug2,labels)\n"
   ]
  },
  {
   "cell_type": "code",
   "execution_count": 42,
   "metadata": {},
   "outputs": [
    {
     "data": {
      "text/plain": [
       "torch.Size([256])"
      ]
     },
     "execution_count": 42,
     "metadata": {},
     "output_type": "execute_result"
    }
   ],
   "source": [
    "labels.shape"
   ]
  },
  {
   "cell_type": "code",
   "execution_count": 47,
   "metadata": {},
   "outputs": [],
   "source": [
    "# for domain invariant loss\n",
    "l_pos_d1 = torch.einsum('nc,nc->n',[f11,f21]).unsqueeze(-1)\n",
    "l_pos_d2 = torch.einsum('nc,nc->n',[f12,f22]).unsqueeze(-1)\n",
    "l_neg_d1 = torch.einsum('nc,ck->nk',[f11,f21.T])\n",
    "l_neg_d2 = torch.einsum('nc,ck->nk',[f12,f22.T])\n",
    "logits_d1 = torch.cat([l_pos_d1,l_neg_d1],dim=1)\n",
    "logits_d2 = torch.cat([l_pos_d2,l_neg_d2],dim=1)\n",
    "labels = torch.zeros(logits_d1.shape[0],dtype=torch.long)\n",
    "d_loss = criterion(logits_d1,labels) + criterion(logits_d2,labels)"
   ]
  },
  {
   "cell_type": "code",
   "execution_count": 48,
   "metadata": {},
   "outputs": [
    {
     "data": {
      "text/plain": [
       "tensor(127.3748)"
      ]
     },
     "execution_count": 48,
     "metadata": {},
     "output_type": "execute_result"
    }
   ],
   "source": [
    "aug_loss"
   ]
  },
  {
   "cell_type": "code",
   "execution_count": 49,
   "metadata": {},
   "outputs": [
    {
     "data": {
      "text/plain": [
       "tensor(130.3878)"
      ]
     },
     "execution_count": 49,
     "metadata": {},
     "output_type": "execute_result"
    }
   ],
   "source": [
    "d_loss"
   ]
  },
  {
   "cell_type": "markdown",
   "metadata": {},
   "source": [
    "## draft for prediction"
   ]
  },
  {
   "cell_type": "code",
   "execution_count": 29,
   "metadata": {},
   "outputs": [],
   "source": [
    "prob = torch.randn(5,2)"
   ]
  },
  {
   "cell_type": "code",
   "execution_count": 30,
   "metadata": {},
   "outputs": [
    {
     "data": {
      "text/plain": [
       "tensor([[-0.8591, -0.8592],\n",
       "        [ 0.1835,  1.0775],\n",
       "        [ 0.6239, -1.1920],\n",
       "        [-0.9117, -0.7077],\n",
       "        [-0.5845, -0.5312]])"
      ]
     },
     "execution_count": 30,
     "metadata": {},
     "output_type": "execute_result"
    }
   ],
   "source": [
    "prob"
   ]
  },
  {
   "cell_type": "code",
   "execution_count": 31,
   "metadata": {},
   "outputs": [],
   "source": [
    "a = torch.argmax(prob,dim=1)"
   ]
  },
  {
   "cell_type": "code",
   "execution_count": 38,
   "metadata": {},
   "outputs": [
    {
     "data": {
      "text/plain": [
       "tensor([0, 1, 0, 1, 1])"
      ]
     },
     "execution_count": 38,
     "metadata": {},
     "output_type": "execute_result"
    }
   ],
   "source": [
    "a"
   ]
  },
  {
   "cell_type": "code",
   "execution_count": 36,
   "metadata": {},
   "outputs": [],
   "source": [
    "softmax_prob = torch.softmax(prob,dim=1)"
   ]
  },
  {
   "cell_type": "code",
   "execution_count": 37,
   "metadata": {},
   "outputs": [
    {
     "data": {
      "text/plain": [
       "tensor([[0.5000, 0.5000],\n",
       "        [0.2903, 0.7097],\n",
       "        [0.8601, 0.1399],\n",
       "        [0.4492, 0.5508],\n",
       "        [0.4867, 0.5133]])"
      ]
     },
     "execution_count": 37,
     "metadata": {},
     "output_type": "execute_result"
    }
   ],
   "source": [
    "softmax_prob"
   ]
  },
  {
   "cell_type": "code",
   "execution_count": 70,
   "metadata": {},
   "outputs": [],
   "source": [
    "prob = softmax_prob[:,1]"
   ]
  },
  {
   "cell_type": "code",
   "execution_count": 71,
   "metadata": {},
   "outputs": [
    {
     "data": {
      "text/plain": [
       "tensor([0.5000, 0.7097, 0.1399, 0.5508, 0.5133])"
      ]
     },
     "execution_count": 71,
     "metadata": {},
     "output_type": "execute_result"
    }
   ],
   "source": [
    "prob"
   ]
  },
  {
   "cell_type": "code",
   "execution_count": 42,
   "metadata": {},
   "outputs": [],
   "source": [
    "prob, pred = torch.max(softmax_prob,dim=1)"
   ]
  },
  {
   "cell_type": "code",
   "execution_count": null,
   "metadata": {},
   "outputs": [],
   "source": []
  },
  {
   "cell_type": "code",
   "execution_count": 68,
   "metadata": {},
   "outputs": [
    {
     "data": {
      "text/plain": [
       "tensor([0.5000, 0.7097, 0.8601, 0.5508, 0.5133])"
      ]
     },
     "execution_count": 68,
     "metadata": {},
     "output_type": "execute_result"
    }
   ],
   "source": [
    "prob"
   ]
  },
  {
   "cell_type": "code",
   "execution_count": 69,
   "metadata": {},
   "outputs": [
    {
     "data": {
      "text/plain": [
       "tensor([0, 1, 0, 1, 1])"
      ]
     },
     "execution_count": 69,
     "metadata": {},
     "output_type": "execute_result"
    }
   ],
   "source": [
    "pred"
   ]
  },
  {
   "cell_type": "code",
   "execution_count": 52,
   "metadata": {},
   "outputs": [],
   "source": [
    "p=[]"
   ]
  },
  {
   "cell_type": "code",
   "execution_count": 55,
   "metadata": {},
   "outputs": [],
   "source": [
    "p.extend(prob.cpu().detach().tolist())"
   ]
  },
  {
   "cell_type": "code",
   "execution_count": 56,
   "metadata": {},
   "outputs": [
    {
     "data": {
      "text/plain": [
       "[0.5000395774841309,\n",
       " 0.7097166776657104,\n",
       " 0.8600674867630005,\n",
       " 0.5508385896682739,\n",
       " 0.5133243203163147,\n",
       " 0.5000395774841309,\n",
       " 0.7097166776657104,\n",
       " 0.8600674867630005,\n",
       " 0.5508385896682739,\n",
       " 0.5133243203163147]"
      ]
     },
     "execution_count": 56,
     "metadata": {},
     "output_type": "execute_result"
    }
   ],
   "source": [
    "p"
   ]
  },
  {
   "cell_type": "code",
   "execution_count": 49,
   "metadata": {},
   "outputs": [],
   "source": [
    "p.append(prob.cpu().detach().numpy().ravel())"
   ]
  },
  {
   "cell_type": "code",
   "execution_count": 50,
   "metadata": {},
   "outputs": [
    {
     "data": {
      "text/plain": [
       "[array([0.5000396, 0.7097167, 0.8600675, 0.5508386, 0.5133243],\n",
       "       dtype=float32),\n",
       " array([0.5000396, 0.7097167, 0.8600675, 0.5508386, 0.5133243],\n",
       "       dtype=float32)]"
      ]
     },
     "execution_count": 50,
     "metadata": {},
     "output_type": "execute_result"
    }
   ],
   "source": [
    "p"
   ]
  },
  {
   "cell_type": "code",
   "execution_count": 45,
   "metadata": {},
   "outputs": [
    {
     "data": {
      "text/plain": [
       "array([0.5000396, 0.7097167, 0.8600675, 0.5508386, 0.5133243],\n",
       "      dtype=float32)"
      ]
     },
     "execution_count": 45,
     "metadata": {},
     "output_type": "execute_result"
    }
   ],
   "source": [
    "prob.cpu().detach().numpy().ravel()"
   ]
  },
  {
   "cell_type": "code",
   "execution_count": 44,
   "metadata": {},
   "outputs": [
    {
     "data": {
      "text/plain": [
       "tensor([0, 1, 0, 1, 1])"
      ]
     },
     "execution_count": 44,
     "metadata": {},
     "output_type": "execute_result"
    }
   ],
   "source": [
    "pred"
   ]
  },
  {
   "cell_type": "code",
   "execution_count": 32,
   "metadata": {},
   "outputs": [
    {
     "data": {
      "text/plain": [
       "[0, 1, 0, 1, 1]"
      ]
     },
     "execution_count": 32,
     "metadata": {},
     "output_type": "execute_result"
    }
   ],
   "source": [
    "a.tolist()"
   ]
  },
  {
   "cell_type": "code",
   "execution_count": 28,
   "metadata": {},
   "outputs": [],
   "source": [
    "label = [1,1,1,1,1]"
   ]
  },
  {
   "cell_type": "code",
   "execution_count": 27,
   "metadata": {},
   "outputs": [],
   "source": [
    "from sklearn.metrics import classification_report, roc_auc_score, roc_curve, accuracy_score"
   ]
  },
  {
   "cell_type": "code",
   "execution_count": 34,
   "metadata": {},
   "outputs": [
    {
     "data": {
      "text/plain": [
       "{'0': {'precision': 0.0, 'recall': 0.0, 'f1-score': 0.0, 'support': 0},\n",
       " '1': {'precision': 1.0,\n",
       "  'recall': 0.6,\n",
       "  'f1-score': 0.7499999999999999,\n",
       "  'support': 5},\n",
       " 'accuracy': 0.6,\n",
       " 'macro avg': {'precision': 0.5,\n",
       "  'recall': 0.3,\n",
       "  'f1-score': 0.37499999999999994,\n",
       "  'support': 5},\n",
       " 'weighted avg': {'precision': 1.0,\n",
       "  'recall': 0.6,\n",
       "  'f1-score': 0.7499999999999999,\n",
       "  'support': 5}}"
      ]
     },
     "execution_count": 34,
     "metadata": {},
     "output_type": "execute_result"
    }
   ],
   "source": [
    "classification_report(label,a.tolist(),output_dict = True, zero_division=0)"
   ]
  },
  {
   "cell_type": "markdown",
   "metadata": {},
   "source": [
    "## test for vgg encoder"
   ]
  },
  {
   "cell_type": "code",
   "execution_count": 16,
   "metadata": {},
   "outputs": [],
   "source": [
    "from models.vgg import vgg16_bn_tiny\n",
    "from models.encoder import Vgg_Encoder\n",
    "encoder = Vgg_Encoder()"
   ]
  },
  {
   "cell_type": "code",
   "execution_count": 17,
   "metadata": {},
   "outputs": [],
   "source": [
    "input = torch.randn(16,4,3,224,224)\n",
    "a = encoder(input)"
   ]
  },
  {
   "cell_type": "code",
   "execution_count": 23,
   "metadata": {},
   "outputs": [],
   "source": [
    "batch, flist, vector = a"
   ]
  },
  {
   "cell_type": "code",
   "execution_count": 24,
   "metadata": {},
   "outputs": [
    {
     "data": {
      "text/plain": [
       "torch.Size([16, 4, 500])"
      ]
     },
     "execution_count": 24,
     "metadata": {},
     "output_type": "execute_result"
    }
   ],
   "source": [
    "vector.shape"
   ]
  },
  {
   "cell_type": "code",
   "execution_count": 25,
   "metadata": {},
   "outputs": [
    {
     "name": "stdout",
     "output_type": "stream",
     "text": [
      "torch.Size([64, 16, 224, 224])\n",
      "torch.Size([64, 32, 112, 112])\n",
      "torch.Size([64, 64, 56, 56])\n",
      "torch.Size([64, 128, 28, 28])\n",
      "torch.Size([64, 128, 14, 14])\n"
     ]
    }
   ],
   "source": [
    "for f in flist:\n",
    "    print(f.shape)"
   ]
  },
  {
   "cell_type": "code",
   "execution_count": null,
   "metadata": {},
   "outputs": [],
   "source": [
    "\n",
    "            "
   ]
  },
  {
   "cell_type": "markdown",
   "metadata": {},
   "source": [
    "## for decoder"
   ]
  },
  {
   "cell_type": "code",
   "execution_count": 10,
   "metadata": {},
   "outputs": [],
   "source": [
    "import numpy as np\n",
    "def l2_normal(x,dim=1):\n",
    "    norm = x.pow(2).sum(dim, keepdim=True).pow(1./2)+1e-10\n",
    "    out = x.div(norm)\n",
    "    return out\n",
    "            \n",
    "def l1_normal(x,dim=1):\n",
    "    x=x+10e-10\n",
    "    norm = x.sum(dim, keepdim=True)\n",
    "    out = x.div(norm)\n",
    "    return out  \n",
    "\n",
    "class decoder(nn.Module):\n",
    "    def __init__(self,channel_list=[128,128,64,32,16,32,8]):\n",
    "        super(decoder, self).__init__()\n",
    "        self.upsample=nn.Upsample(scale_factor=(2,2))\n",
    "        \n",
    "        \n",
    "        self.conv_layer8x=nn.Sequential(\n",
    "                                              nn.Conv2d(in_channels=channel_list[0]+channel_list[1],out_channels=channel_list[1],kernel_size=(3,3),padding=(1,1)),\n",
    "                                              nn.BatchNorm2d(channel_list[1]),\n",
    "                                              nn.ReLU(True),\n",
    "                                              nn.Conv2d(in_channels=channel_list[1],out_channels=channel_list[2],kernel_size=(3,3),padding=(1,1)),\n",
    "                                              nn.BatchNorm2d(channel_list[2]),\n",
    "                                              nn.ReLU(True))\n",
    "\n",
    "        self.conv_layer4x=nn.Sequential(\n",
    "                                              nn.Conv2d(in_channels=channel_list[2]*2,out_channels=channel_list[2],kernel_size=(3,3),padding=(1,1)),\n",
    "                                              nn.BatchNorm2d(channel_list[2]),\n",
    "                                              nn.ReLU(True),\n",
    "                                              nn.Conv2d(in_channels=channel_list[2],out_channels=channel_list[3],kernel_size=(3,3),padding=(1,1)),\n",
    "                                              nn.BatchNorm2d(channel_list[3]),\n",
    "                                              nn.ReLU(True)\n",
    "                                                )\n",
    "        self.conv_layer2x=nn.Sequential(\n",
    "                                              nn.Conv2d(in_channels=channel_list[3]*2,out_channels=channel_list[3],kernel_size=(3,3),padding=(1,1)),\n",
    "                                              nn.BatchNorm2d(channel_list[3]),\n",
    "                                              nn.ReLU(True),\n",
    "                                              nn.Conv2d(in_channels=channel_list[3],out_channels=channel_list[4],kernel_size=(3,3),padding=(1,1)),\n",
    "                                              nn.BatchNorm2d(channel_list[4]),\n",
    "                                              nn.ReLU(True)\n",
    "                                                )\n",
    "        self.embedding_branch=nn.Sequential(\n",
    "                                              nn.Conv2d(in_channels=channel_list[4]*2,out_channels=channel_list[5],kernel_size=(3,3),padding=(1,1)),\n",
    "                                              nn.BatchNorm2d(channel_list[5]),\n",
    "                                              nn.ReLU(True),\n",
    "                                              nn.Conv2d(in_channels=channel_list[5],out_channels=channel_list[5],kernel_size=(3,3),padding=(1,1))\n",
    "                                                )\n",
    "        if len(channel_list)>6:\n",
    "            self.clustering_branch=nn.Sequential(\n",
    "                                                  nn.Conv2d(in_channels=channel_list[4]*2,out_channels=channel_list[6],kernel_size=(3,3),padding=(1,1)),\n",
    "                                                  nn.BatchNorm2d(channel_list[6]),\n",
    "                                                  nn.ReLU(True),\n",
    "                                                  nn.Conv2d(in_channels=channel_list[6],out_channels=channel_list[6],kernel_size=(3,3),padding=(1,1)),\n",
    "                                                  nn.Sigmoid()\n",
    "                                                )\n",
    "    def forward(self, x,region_output_size=(4,4),if_clustering=False,if_test=False):\n",
    "        features=self.upsample(x[-1])\n",
    "        features=torch.cat([features,x[-2]],dim=1)\n",
    "        features=self.conv_layer8x(features)\n",
    "        features=self.upsample(features)\n",
    "        features=torch.cat([features,x[-3]],dim=1)\n",
    "        features=self.conv_layer4x(features)\n",
    "        features=self.upsample(features)\n",
    "        features=torch.cat([features,x[-4]],dim=1)\n",
    "        features=self.conv_layer2x(features)\n",
    "        features=self.upsample(features)\n",
    "        features=torch.cat([features,x[-5]],dim=1)\n",
    "        del x\n",
    "        if not if_clustering:\n",
    "            features=self.embedding_branch(features)   # embedding of each pixel\n",
    "            features=l2_normal(features)  # ||pixel feature||_2 = 1\n",
    "            return features\n",
    "        \n",
    "        attention_map=self.clustering_branch(features)\n",
    "        attention_map=l1_normal(attention_map, dim=1)\n",
    "        features=self.embedding_branch(features)\n",
    "        \n",
    "        features=l2_normal(features)\n",
    "        # return attention_map,features\n",
    "        if if_test:\n",
    "            return attention_map,features\n",
    "        patch_features=nn.functional.adaptive_avg_pool2d(features,output_size=region_output_size)\n",
    "        print(features.shape)\n",
    "        region_features=features[:,np.newaxis,:,:,:]*attention_map[:,:,np.newaxis,:,:]\n",
    "        region_features=torch.mean(region_features,(3,4))\n",
    "        region_features=l2_normal(region_features,2)\n",
    "        return l2_normal(patch_features),region_features,attention_map"
   ]
  },
  {
   "cell_type": "code",
   "execution_count": 14,
   "metadata": {},
   "outputs": [],
   "source": [
    "de = decoder()"
   ]
  },
  {
   "cell_type": "markdown",
   "metadata": {},
   "source": [
    "### Understand Decoder"
   ]
  },
  {
   "cell_type": "code",
   "execution_count": 42,
   "metadata": {},
   "outputs": [],
   "source": [
    "attns, fs =de(a, if_clustering=True, if_test=True)"
   ]
  },
  {
   "cell_type": "code",
   "execution_count": 43,
   "metadata": {},
   "outputs": [
    {
     "name": "stdout",
     "output_type": "stream",
     "text": [
      "torch.Size([2, 8, 224, 224])\n",
      "torch.Size([2, 32, 224, 224])\n"
     ]
    }
   ],
   "source": [
    "print(attns.shape)\n",
    "print(fs.shape)"
   ]
  },
  {
   "cell_type": "code",
   "execution_count": 48,
   "metadata": {},
   "outputs": [
    {
     "name": "stdout",
     "output_type": "stream",
     "text": [
      "torch.Size([2, 32, 224, 224])\n"
     ]
    }
   ],
   "source": [
    "patch, region, attn_map =de(a, if_clustering=True)"
   ]
  },
  {
   "cell_type": "code",
   "execution_count": 45,
   "metadata": {},
   "outputs": [
    {
     "name": "stdout",
     "output_type": "stream",
     "text": [
      "torch.Size([2, 32, 4, 4])\n",
      "torch.Size([2, 8, 32])\n",
      "torch.Size([2, 8, 224, 224])\n"
     ]
    }
   ],
   "source": [
    "print(patch.shape)\n",
    "print(region.shape)\n",
    "print(attn_map.shape)"
   ]
  },
  {
   "cell_type": "code",
   "execution_count": 40,
   "metadata": {},
   "outputs": [
    {
     "data": {
      "text/plain": [
       "torch.Size([2, 8, 32])"
      ]
     },
     "execution_count": 40,
     "metadata": {},
     "output_type": "execute_result"
    }
   ],
   "source": [
    "region.shape"
   ]
  },
  {
   "cell_type": "code",
   "execution_count": 41,
   "metadata": {},
   "outputs": [
    {
     "data": {
      "text/plain": [
       "torch.Size([2, 8, 224, 224])"
      ]
     },
     "execution_count": 41,
     "metadata": {},
     "output_type": "execute_result"
    }
   ],
   "source": [
    "attn_map.shape"
   ]
  },
  {
   "cell_type": "code",
   "execution_count": 24,
   "metadata": {},
   "outputs": [
    {
     "name": "stdout",
     "output_type": "stream",
     "text": [
      "torch.Size([2, 128, 28, 28])\n"
     ]
    }
   ],
   "source": [
    "f = de(a)"
   ]
  },
  {
   "cell_type": "code",
   "execution_count": 27,
   "metadata": {},
   "outputs": [
    {
     "data": {
      "text/plain": [
       "torch.Size([2, 32, 224, 224])"
      ]
     },
     "execution_count": 27,
     "metadata": {},
     "output_type": "execute_result"
    }
   ],
   "source": [
    "f.shape"
   ]
  },
  {
   "cell_type": "code",
   "execution_count": 28,
   "metadata": {},
   "outputs": [
    {
     "data": {
      "text/plain": [
       "torch.Size([2, 32, 224, 224])"
      ]
     },
     "execution_count": 28,
     "metadata": {},
     "output_type": "execute_result"
    }
   ],
   "source": [
    "fs.shape"
   ]
  },
  {
   "cell_type": "code",
   "execution_count": 29,
   "metadata": {},
   "outputs": [
    {
     "data": {
      "text/plain": [
       "torch.Size([2, 8, 224, 224])"
      ]
     },
     "execution_count": 29,
     "metadata": {},
     "output_type": "execute_result"
    }
   ],
   "source": []
  },
  {
   "cell_type": "code",
   "execution_count": 49,
   "metadata": {},
   "outputs": [],
   "source": [
    "bb = torch.tensor(1.0)"
   ]
  },
  {
   "cell_type": "code",
   "execution_count": 56,
   "metadata": {},
   "outputs": [
    {
     "data": {
      "text/plain": [
       "1.0"
      ]
     },
     "execution_count": 56,
     "metadata": {},
     "output_type": "execute_result"
    }
   ],
   "source": [
    "bb.cpu().item()"
   ]
  },
  {
   "cell_type": "markdown",
   "metadata": {},
   "source": [
    "### overall encoder and decoder"
   ]
  },
  {
   "cell_type": "code",
   "execution_count": 15,
   "metadata": {},
   "outputs": [],
   "source": [
    "imgs = torch.randn(16,3,224,224)"
   ]
  },
  {
   "cell_type": "code",
   "execution_count": 16,
   "metadata": {},
   "outputs": [],
   "source": [
    "f = encoder(imgs)"
   ]
  },
  {
   "cell_type": "code",
   "execution_count": 26,
   "metadata": {},
   "outputs": [
    {
     "name": "stdout",
     "output_type": "stream",
     "text": [
      "torch.Size([16, 32, 224, 224])\n"
     ]
    }
   ],
   "source": [
    "patch, region, attn_map =de(f, region_output_size=(8,8), if_clustering=True)"
   ]
  },
  {
   "cell_type": "code",
   "execution_count": 27,
   "metadata": {},
   "outputs": [
    {
     "data": {
      "text/plain": [
       "torch.Size([16, 32, 8, 8])"
      ]
     },
     "execution_count": 27,
     "metadata": {},
     "output_type": "execute_result"
    }
   ],
   "source": [
    "patch.shape"
   ]
  },
  {
   "cell_type": "markdown",
   "metadata": {},
   "source": [
    "### look into patch features"
   ]
  },
  {
   "cell_type": "code",
   "execution_count": 118,
   "metadata": {},
   "outputs": [],
   "source": [
    "import torch.nn.functional as F\n",
    "class Dense_Loss(nn.Module):\n",
    "    def __init__(self,patch_size,h=[0,1,2,3,4]):\n",
    "        super(Dense_Loss, self).__init__()\n",
    "        self.h = h\n",
    "        self.patch_size = patch_size\n",
    "\n",
    "    def forward(self, f):\n",
    "        all_loss = torch.tensor(0.)\n",
    "        for i in self.h:\n",
    "            feature_map = f[i]\n",
    "            feature_map = F.normalize(feature_map,dim=1) ## l2 norm first\n",
    "            print(feature_map.shape)\n",
    "            b,c,w,h = feature_map.shape\n",
    "            feature_map = feature_map.view(-1,4,c,w,h) # reshape the feature map\n",
    "            fm11 = feature_map[:,0,:,:]\n",
    "            fm21 = feature_map[:,1,:,:]\n",
    "            print(fm11.shape)\n",
    "            patch11 = F.adaptive_avg_pool2d(fm11,output_size=self.patch_size)\n",
    "            patch21 = F.adaptive_avg_pool2d(fm21,output_size=self.patch_size)\n",
    "            print(patch11.shape)\n",
    "            # now the feature map in each modality is b x c x n x n (n denotes patch size)\n",
    "            print(b)\n",
    "            print(c)\n",
    "            patch_flatten11 = patch11.view(int(b/4),c,-1)\n",
    "            patch_flatten21 = patch21.view(int(b/4),c,-1)\n",
    "            # b x c x n^2\n",
    "            sim_matrix11 = torch.einsum('abc,abd->acd',[patch_flatten11,patch_flatten11]) # b x n^2\n",
    "            sim_matrix21 = torch.einsum('abc,abd->acd',[patch_flatten21,patch_flatten21])\n",
    "            sim_flatten11 = sim_matrix11.view(sim_matrix11.shape[0],-1)\n",
    "            sim_flatten21 = sim_matrix21.view(sim_matrix21.shape[0],-1)\n",
    "            patch_loss = F.pairwise_distance(sim_flatten11,sim_flatten21,p=2)\n",
    "            h_loss = torch.sum(patch_loss)\n",
    "            all_loss += h_loss\n",
    "        return all_loss\n",
    "            \n",
    "            "
   ]
  },
  {
   "cell_type": "code",
   "execution_count": 122,
   "metadata": {},
   "outputs": [],
   "source": [
    "d_loss = Dense_Loss(patch_size=[4,4],h=[0,1,2,3,4])"
   ]
  },
  {
   "cell_type": "code",
   "execution_count": 123,
   "metadata": {},
   "outputs": [
    {
     "name": "stdout",
     "output_type": "stream",
     "text": [
      "torch.Size([64, 16, 224, 224])\n",
      "torch.Size([16, 16, 224, 224])\n",
      "torch.Size([16, 16, 4, 4])\n",
      "64\n",
      "16\n",
      "torch.Size([64, 32, 112, 112])\n",
      "torch.Size([16, 32, 112, 112])\n",
      "torch.Size([16, 32, 4, 4])\n",
      "64\n",
      "32\n",
      "torch.Size([64, 64, 56, 56])\n",
      "torch.Size([16, 64, 56, 56])\n",
      "torch.Size([16, 64, 4, 4])\n",
      "64\n",
      "64\n",
      "torch.Size([64, 128, 28, 28])\n",
      "torch.Size([16, 128, 28, 28])\n",
      "torch.Size([16, 128, 4, 4])\n",
      "64\n",
      "128\n",
      "torch.Size([64, 128, 14, 14])\n",
      "torch.Size([16, 128, 14, 14])\n",
      "torch.Size([16, 128, 4, 4])\n",
      "64\n",
      "128\n"
     ]
    }
   ],
   "source": [
    "loss = d_loss(flist)"
   ]
  },
  {
   "cell_type": "code",
   "execution_count": 124,
   "metadata": {},
   "outputs": [
    {
     "data": {
      "text/plain": [
       "tensor(6.7840, grad_fn=<AddBackward0>)"
      ]
     },
     "execution_count": 124,
     "metadata": {},
     "output_type": "execute_result"
    }
   ],
   "source": [
    "loss"
   ]
  },
  {
   "cell_type": "code",
   "execution_count": 112,
   "metadata": {},
   "outputs": [
    {
     "data": {
      "text/plain": [
       "torch.Size([16, 256])"
      ]
     },
     "execution_count": 112,
     "metadata": {},
     "output_type": "execute_result"
    }
   ],
   "source": [
    "sim_flatten11.shape"
   ]
  },
  {
   "cell_type": "code",
   "execution_count": 113,
   "metadata": {},
   "outputs": [],
   "source": [
    "output = F.pairwise_distance(sim_flatten11,sim_flatten21,p=2)"
   ]
  },
  {
   "cell_type": "code",
   "execution_count": 115,
   "metadata": {},
   "outputs": [
    {
     "data": {
      "text/plain": [
       "tensor(0.4395, grad_fn=<SumBackward0>)"
      ]
     },
     "execution_count": 115,
     "metadata": {},
     "output_type": "execute_result"
    }
   ],
   "source": [
    "torch.sum(output)"
   ]
  },
  {
   "cell_type": "code",
   "execution_count": 28,
   "metadata": {},
   "outputs": [],
   "source": [
    "flatten_patch = patch.view(-1,32,8*8)"
   ]
  },
  {
   "cell_type": "code",
   "execution_count": 36,
   "metadata": {},
   "outputs": [
    {
     "data": {
      "text/plain": [
       "torch.Size([16, 32, 64])"
      ]
     },
     "execution_count": 36,
     "metadata": {},
     "output_type": "execute_result"
    }
   ],
   "source": [
    "flatten_patch.shape"
   ]
  },
  {
   "cell_type": "code",
   "execution_count": 34,
   "metadata": {},
   "outputs": [],
   "source": [
    "sim_matrix = torch.einsum('abc,abd->acd',[flatten_patch,flatten_patch])"
   ]
  },
  {
   "cell_type": "code",
   "execution_count": 35,
   "metadata": {},
   "outputs": [
    {
     "data": {
      "text/plain": [
       "torch.Size([16, 64, 64])"
      ]
     },
     "execution_count": 35,
     "metadata": {},
     "output_type": "execute_result"
    }
   ],
   "source": [
    "sim_matrix.shape"
   ]
  },
  {
   "cell_type": "code",
   "execution_count": 19,
   "metadata": {},
   "outputs": [],
   "source": [
    "patch = patch.view(-1,4,32,8,8)"
   ]
  },
  {
   "cell_type": "code",
   "execution_count": 20,
   "metadata": {},
   "outputs": [
    {
     "data": {
      "text/plain": [
       "torch.Size([4, 4, 32, 8, 8])"
      ]
     },
     "execution_count": 20,
     "metadata": {},
     "output_type": "execute_result"
    }
   ],
   "source": [
    "patch.shape"
   ]
  },
  {
   "cell_type": "code",
   "execution_count": 21,
   "metadata": {},
   "outputs": [],
   "source": [
    "map11 = patch[:,1,:,:,:]\n",
    "map21 = patch[:,2,:,:,:]"
   ]
  },
  {
   "cell_type": "code",
   "execution_count": 22,
   "metadata": {},
   "outputs": [
    {
     "data": {
      "text/plain": [
       "torch.Size([4, 32, 8, 8])"
      ]
     },
     "execution_count": 22,
     "metadata": {},
     "output_type": "execute_result"
    }
   ],
   "source": [
    "map11.shape"
   ]
  },
  {
   "cell_type": "code",
   "execution_count": 80,
   "metadata": {},
   "outputs": [],
   "source": [
    "sim_matrix = torch.einsum('abcd,abcd->acd',[map11,map21])"
   ]
  },
  {
   "cell_type": "code",
   "execution_count": 81,
   "metadata": {},
   "outputs": [
    {
     "data": {
      "text/plain": [
       "torch.Size([4, 8, 8])"
      ]
     },
     "execution_count": 81,
     "metadata": {},
     "output_type": "execute_result"
    }
   ],
   "source": [
    "sim_matrix.shape"
   ]
  },
  {
   "cell_type": "markdown",
   "metadata": {},
   "source": [
    "### feature maps in encoder"
   ]
  },
  {
   "cell_type": "code",
   "execution_count": 24,
   "metadata": {},
   "outputs": [
    {
     "name": "stdout",
     "output_type": "stream",
     "text": [
      "torch.Size([16, 16, 224, 224])\n",
      "torch.Size([16, 32, 112, 112])\n",
      "torch.Size([16, 64, 56, 56])\n",
      "torch.Size([16, 128, 28, 28])\n",
      "torch.Size([16, 128, 14, 14])\n"
     ]
    }
   ],
   "source": [
    "for fmap in f:\n",
    "    print(fmap.shape)"
   ]
  },
  {
   "cell_type": "code",
   "execution_count": null,
   "metadata": {},
   "outputs": [],
   "source": []
  }
 ],
 "metadata": {
  "kernelspec": {
   "display_name": "gyf171",
   "language": "python",
   "name": "gyf171"
  },
  "language_info": {
   "codemirror_mode": {
    "name": "ipython",
    "version": 3
   },
   "file_extension": ".py",
   "mimetype": "text/x-python",
   "name": "python",
   "nbconvert_exporter": "python",
   "pygments_lexer": "ipython3",
   "version": "3.8.8"
  }
 },
 "nbformat": 4,
 "nbformat_minor": 4
}
